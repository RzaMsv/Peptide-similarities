{
 "cells": [
  {
   "cell_type": "markdown",
   "id": "9fc9902d",
   "metadata": {},
   "source": [
    "# Loading libraries"
   ]
  },
  {
   "cell_type": "code",
   "execution_count": 14,
   "id": "9e42a3a4",
   "metadata": {},
   "outputs": [],
   "source": [
    "from Bio import SeqIO\n",
    "from Bio.Seq import Seq\n",
    "from Bio.SeqRecord import SeqRecord\n",
    "from Bio.Align.Applications import MafftCommandline"
   ]
  },
  {
   "cell_type": "markdown",
   "id": "7bd25150",
   "metadata": {},
   "source": [
    "# Creating a Parse FASTA file"
   ]
  },
  {
   "cell_type": "code",
   "execution_count": 16,
   "id": "0a5410d3",
   "metadata": {},
   "outputs": [],
   "source": [
    "# Creating a parse FASTA file\n",
    "human_proteome_file = \"/Users/rezamoosavi_1/Desktop/RNAseq/Human Proteome.fasta\"\n",
    "#human_proteins = {}\n",
    "#for record in SeqIO.parse(human_proteome_file, \"fasta\"):\n",
    "    #human_proteins[record.id] = record.seq"
   ]
  },
  {
   "cell_type": "markdown",
   "id": "81acd76d",
   "metadata": {},
   "source": [
    "# Defining a sequence for alignment"
   ]
  },
  {
   "cell_type": "code",
   "execution_count": 17,
   "id": "88889572",
   "metadata": {},
   "outputs": [
    {
     "data": {
      "text/plain": [
       "Seq('MERNAGSGIIISDTP')"
      ]
     },
     "execution_count": 17,
     "metadata": {},
     "output_type": "execute_result"
    }
   ],
   "source": [
    "# Create a sequence object for the peptide sequence\n",
    "peptide_seq = Seq(\"MERNAGSGIIISDTP\")\n",
    "peptide_seq"
   ]
  },
  {
   "cell_type": "markdown",
   "id": "0eb282d9",
   "metadata": {},
   "source": [
    "# Aligning with MAFFT package"
   ]
  },
  {
   "cell_type": "code",
   "execution_count": 18,
   "id": "c5c5c12a",
   "metadata": {},
   "outputs": [
    {
     "ename": "SyntaxError",
     "evalue": "invalid syntax (4106063808.py, line 3)",
     "output_type": "error",
     "traceback": [
      "\u001b[0;36m  Cell \u001b[0;32mIn[18], line 3\u001b[0;36m\u001b[0m\n\u001b[0;31m    mafft_cline = MafftCommandline(mafft_exe, input=input_file, in2=human_proteome_file, out=output_file, options=mafft_options, auto=True)stdout, stderr = mafft_cline()\u001b[0m\n\u001b[0m                                                                                                                                           ^\u001b[0m\n\u001b[0;31mSyntaxError\u001b[0m\u001b[0;31m:\u001b[0m invalid syntax\n"
     ]
    }
   ],
   "source": [
    "output_file = \"aligned_sequences.fasta\"\n",
    "mafft_options = \"--auto --maxiterate 1000\"\n",
    "mafft_cline = MafftCommandline(mafft_exe, input=input_file, in2=human_proteome_file, out=output_file, options=mafft_options, auto=True)stdout, stderr = mafft_cline()\n",
    "print(\"Standard output: \", stdout)\n",
    "print(\"Standard error: \", stderr)"
   ]
  },
  {
   "cell_type": "code",
   "execution_count": null,
   "id": "d4ed852a",
   "metadata": {},
   "outputs": [],
   "source": []
  }
 ],
 "metadata": {
  "kernelspec": {
   "display_name": "Python 3 (ipykernel)",
   "language": "python",
   "name": "python3"
  },
  "language_info": {
   "codemirror_mode": {
    "name": "ipython",
    "version": 3
   },
   "file_extension": ".py",
   "mimetype": "text/x-python",
   "name": "python",
   "nbconvert_exporter": "python",
   "pygments_lexer": "ipython3",
   "version": "3.10.10"
  }
 },
 "nbformat": 4,
 "nbformat_minor": 5
}
